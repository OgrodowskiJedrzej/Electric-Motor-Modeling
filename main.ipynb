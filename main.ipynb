{
 "cells": [
  {
   "cell_type": "code",
   "execution_count": 1,
   "metadata": {},
   "outputs": [],
   "source": [
    "import numpy as np"
   ]
  },
  {
   "cell_type": "markdown",
   "metadata": {},
   "source": [
    "### Introduction\n",
    "Differential equation describing the system.\n",
    "\n",
    "$$J\\frac{d\\omega}{dt} = M_e - M_0 - M_{LOAD}$$\n",
    "where:\n",
    "- $M_e$: electromagnetic moment\n",
    "- $M_0$: braking moment\n",
    "- $M_{LOAD}$: load moment\n",
    "- $J$: moment of inertia\n",
    "\n",
    "Transformation to differential form using the Eulerian method.\n",
    "$$J\\frac{d\\omega(t+\\Delta t) - \\omega (t)}{\\Delta t} = M_e(t)-M_0-M_{LOAD}(t)$$\n",
    "$$\\omega (t+\\Delta t) = \\omega(t) + \\frac{\\Delta t}{J}(M_e(t)- M_0-M_{LOAD}(t))$$\n",
    "\n",
    "What about $M_e(t)$?\n",
    "$$M_e(t) = Kp \\cdot e(t) + Ki \\sum^t_{k=0}e(k)\\Delta t$$\n",
    "$$e(t) = \\omega_{ref} - \\omega(t)$$"
   ]
  },
  {
   "cell_type": "markdown",
   "metadata": {},
   "source": [
    "### Defined Parameters"
   ]
  },
  {
   "cell_type": "code",
   "execution_count": null,
   "metadata": {},
   "outputs": [],
   "source": [
    "# Parameters of simulation\n",
    "referencedRevolutionsPerMinute = 2000\n",
    "\n",
    "# Simulation time parameters\n",
    "timeOfSimulation = 30\n",
    "timeOfSample = 0.1\n",
    "\n",
    "# Parameters of crankshaft\n",
    "brakingMoment = 0.5\n",
    "loadMoment = 0.5\n",
    "momentOfInertia = 1 \n",
    "\n",
    "# Parameters of PI regulator\n",
    "Kp = 0.1\n",
    "Ki = 0.1\n",
    "\n",
    "# Lists of measured values\n",
    "# TODO: Think about initalizing first elements here in list\n",
    "timeOfSimulationList = [0.0]\n",
    "loadMomentList = [] \n",
    "electromagneticMoment = []\n",
    "adjustmentErrors = [referencedRevolutionsPerMinute]"
   ]
  },
  {
   "cell_type": "markdown",
   "metadata": {},
   "source": [
    "### Calculations"
   ]
  },
  {
   "cell_type": "code",
   "execution_count": null,
   "metadata": {},
   "outputs": [],
   "source": [
    "def calculateNumberOfSteps(timeOfSimulation: int, timeOfSample: float) -> int:\n",
    "    \"\"\" This function calculates number of iterations for simulation of process\n",
    "\n",
    "        @Parameters:\n",
    "        - timeOfSimulation (int): total time of simulation in seconds\n",
    "        - timeOfSample (float): time at which we repeat the measurement in seconds\n",
    "\n",
    "        @Return:\n",
    "        - int: number of iterations\n",
    "    \"\"\"\n",
    "    return int(timeOfSimulation / timeOfSample) + 1"
   ]
  },
  {
   "cell_type": "code",
   "execution_count": null,
   "metadata": {},
   "outputs": [],
   "source": [
    "def calculateAdjustmentError(referencedRevolutionsPerMinute: float, currentRevolutionsPerMinute: float) -> float:\n",
    "    # TODO Floats or Integers???\n",
    "    \"\"\" This function calculates adjustment error which is difference between referenced value and current one\n",
    "\n",
    "        @Parameters:\n",
    "        - referencedRevolutionsPerMinute (float): set value to be obtained by regulator\n",
    "        - currentRevolutionsPerMinute (float): current value\n",
    "\n",
    "        @Return:\n",
    "        - float: error\n",
    "    \"\"\"\n",
    "    return referencedRevolutionsPerMinute - currentRevolutionsPerMinute"
   ]
  },
  {
   "cell_type": "code",
   "execution_count": null,
   "metadata": {},
   "outputs": [],
   "source": [
    "def calculateElectromagneticMoment(errorList : list[float], iteration: int) -> float:\n",
    "    return Kp * errorList[iteration] + Ki * sum(errorList) * timeOfSample"
   ]
  },
  {
   "cell_type": "code",
   "execution_count": null,
   "metadata": {},
   "outputs": [],
   "source": [
    "def calculateRevolutionsPerMinute():\n",
    "    pass"
   ]
  },
  {
   "cell_type": "markdown",
   "metadata": {},
   "source": [
    "### Simulation"
   ]
  },
  {
   "cell_type": "code",
   "execution_count": 2,
   "metadata": {},
   "outputs": [],
   "source": [
    "# TODO Perform simulation here"
   ]
  }
 ],
 "metadata": {
  "kernelspec": {
   "display_name": "Python 3",
   "language": "python",
   "name": "python3"
  },
  "language_info": {
   "codemirror_mode": {
    "name": "ipython",
    "version": 3
   },
   "file_extension": ".py",
   "mimetype": "text/x-python",
   "name": "python",
   "nbconvert_exporter": "python",
   "pygments_lexer": "ipython3",
   "version": "3.12.2"
  }
 },
 "nbformat": 4,
 "nbformat_minor": 2
}
