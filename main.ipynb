{
 "cells": [
  {
   "cell_type": "code",
   "execution_count": 308,
   "metadata": {},
   "outputs": [],
   "source": [
    "import numpy as np"
   ]
  },
  {
   "cell_type": "markdown",
   "metadata": {},
   "source": [
    "### Introduction\n",
    "Model of electric engine. \n",
    "1000 - 10000 RPMs.\n",
    "\n",
    "Differential equation describing the system.\n",
    "\n",
    "$$J\\frac{d\\omega}{dt} = M_e - M_0 - M_{LOAD}$$\n",
    "where:\n",
    "- $M_e$: electromagnetic moment\n",
    "- $M_0$: braking moment\n",
    "- $M_{LOAD}$: load moment\n",
    "- $I$: moment of inertia\n",
    "\n",
    "Transformation to differential form using the Eulerian method.\n",
    "$$I\\frac{d\\omega(t+\\Delta t) - \\omega (t)}{\\Delta t} = M_e(t)-M_0-M_{LOAD}(t)$$\n",
    "$$\\omega (t+\\Delta t) = \\omega(t) + \\frac{\\Delta t}{I}(M_e(t)- M_0-M_{LOAD}(t))$$\n",
    "\n",
    "What about $M_e(t)$?\n",
    "$$U_{PI}(t) = Kp \\cdot e(t) + Ki \\sum^t_{k=0}e(k)\\Delta t$$\n",
    "$$M_e(t) = U_{PI} * const$$\n",
    "$$e(t) = \\omega_{ref} - \\omega(t)$$"
   ]
  },
  {
   "cell_type": "markdown",
   "metadata": {},
   "source": [
    "### Defined Parameters"
   ]
  },
  {
   "cell_type": "code",
   "execution_count": 309,
   "metadata": {},
   "outputs": [],
   "source": [
    "# Parameters of simulation\n",
    "referencedRevolutionsPerMinute = 3000\n",
    "\n",
    "# Simulation time parameters\n",
    "timeOfSimulation = 1000\n",
    "timeOfSample = 0.1\n",
    "\n",
    "# Parameters of crankshaft\n",
    "brakingMoment = 0.2\n",
    "loadMoment = 0.5\n",
    "momentOfInertia = 1.2\n",
    "constantOfElectromagneticMoment = 0.1 #! dostosowac\n",
    "\n",
    "# Parameters of PI regulator\n",
    "Kp = 0.5\n",
    "Ki = 0.1\n",
    "\n",
    "# Constraints\n",
    "Umax = 24\n",
    "Umin = 0\n",
    "maximumRevolutionsPerMinute = referencedRevolutionsPerMinute * 1.5 #! Check\n",
    "maximumElectromagneticMoment = maximumRevolutionsPerMinute / 1500 #! Check\n",
    "\n",
    "# Lists of measured values\n",
    "# TODO: Think about initalizing first elements here in list\n",
    "timeOfSimulationList = [0.0]\n",
    "loadMomentList = [0.0] \n",
    "electromagneticMomentList = [0.0]\n",
    "adjustmentErrors = [referencedRevolutionsPerMinute]\n",
    "voltagesList = [0.0]\n",
    "revolutionsList = [1000]"
   ]
  },
  {
   "cell_type": "markdown",
   "metadata": {},
   "source": [
    "### Calculations"
   ]
  },
  {
   "cell_type": "code",
   "execution_count": 310,
   "metadata": {},
   "outputs": [],
   "source": [
    "def calculateNumberOfIterations(timeOfSimulation: int, timeOfSample: float) -> int:\n",
    "    \"\"\" This function calculates number of iterations for simulation of process\n",
    "\n",
    "        @Parameters:\n",
    "        - timeOfSimulation (int): total time of simulation in seconds\n",
    "        - timeOfSample (float): time at which we repeat the measurement in seconds\n",
    "\n",
    "        @Return:\n",
    "        - int: number of iterations\n",
    "    \"\"\"\n",
    "    return int(timeOfSimulation / timeOfSample) + 1"
   ]
  },
  {
   "cell_type": "code",
   "execution_count": 311,
   "metadata": {},
   "outputs": [],
   "source": [
    "def calculateAdjustmentError(referencedRevolutionsPerMinute: float, currentRevolutionsPerMinute: float) -> float:\n",
    "    # TODO Floats or Integers???\n",
    "    \"\"\" This function calculates adjustment error which is difference between referenced value and current one\n",
    "\n",
    "        @Parameters:\n",
    "        - referencedRevolutionsPerMinute (float): set value to be obtained by regulator\n",
    "        - currentRevolutionsPerMinute (float): current value\n",
    "\n",
    "        @Return:\n",
    "        - float: error\n",
    "    \"\"\"\n",
    "    return referencedRevolutionsPerMinute - currentRevolutionsPerMinute"
   ]
  },
  {
   "cell_type": "code",
   "execution_count": 312,
   "metadata": {},
   "outputs": [],
   "source": [
    "def calculateVoltageOfRegulator(errorList : list[float], iteration: int) -> float:\n",
    "    \"\"\" This funtion calculates current voltage of regulator\n",
    "\n",
    "        @Parameters:\n",
    "        - errorList (list[float]): list of errors at the moment and before\n",
    "        - iteration (int): information about current simulation iteration\n",
    "\n",
    "        @Return\n",
    "        - float: current voltage of regulator\n",
    "    \"\"\"\n",
    "    return Kp * errorList[iteration] + Ki * sum(errorList) * timeOfSample"
   ]
  },
  {
   "cell_type": "code",
   "execution_count": 313,
   "metadata": {},
   "outputs": [],
   "source": [
    "def calculateElectromagneticMoment(constant : float, currentVoltage : float) -> float:\n",
    "    \"\"\" This function calculates current electromagnetic moment based on voltage of regulator\n",
    "\n",
    "        @Parameters:\n",
    "        - constant (float): used to scale moment \n",
    "        - currentVoltageOfRegulator (float): voltage of regulator at the moment\n",
    "\n",
    "        @Return\n",
    "        - float: current electromagnetic moment\n",
    "    \"\"\"\n",
    "    return constant * currentVoltage"
   ]
  },
  {
   "cell_type": "code",
   "execution_count": 314,
   "metadata": {},
   "outputs": [],
   "source": [
    "def calculateNormalizedVoltage(voltgeOfRegulator : float) -> float:\n",
    "    \"\"\" This function calculates normalized voltage based on predefined constraints <0;24> [V]\n",
    "\n",
    "    @Parameters:\n",
    "    - voltageOfRegulator (float): current voltage of regulator\n",
    "\n",
    "    @Returns:\n",
    "    - float: normalized voltage used to create electromagnetic moment\n",
    "    \"\"\"\n",
    "    return max(Umin, min(Umax, voltgeOfRegulator))"
   ]
  },
  {
   "cell_type": "code",
   "execution_count": 315,
   "metadata": {},
   "outputs": [],
   "source": [
    "def calculateRevoltions(revolutionsList, electromagneticMomentList):\n",
    "    acceleration = (\n",
    "        electromagneticMomentList[-1] - loadMoment - brakingMoment) / momentOfInertia\n",
    "    return revolutionsList[-1] + timeOfSample * acceleration"
   ]
  },
  {
   "cell_type": "markdown",
   "metadata": {},
   "source": [
    "### Simulation"
   ]
  },
  {
   "cell_type": "code",
   "execution_count": 316,
   "metadata": {},
   "outputs": [],
   "source": [
    "for i in range(calculateNumberOfIterations(timeOfSimulation, timeOfSample)):\n",
    "    # Update simulation time\n",
    "    timeOfSimulationList.append(timeOfSimulationList[-1] + timeOfSample)\n",
    "\n",
    "    # Calculate adjustment error\n",
    "    adjustmentError = calculateAdjustmentError(\n",
    "        referencedRevolutionsPerMinute, revolutionsList[-1])\n",
    "    adjustmentErrors.append(adjustmentError)\n",
    "\n",
    "    # Calculate normalized voltage\n",
    "    voltage = calculateNormalizedVoltage(\n",
    "        calculateVoltageOfRegulator(adjustmentErrors, -1))\n",
    "    voltagesList.append(voltage)\n",
    "\n",
    "    # Calculate electromagnetic moment\n",
    "    electromagneticMoment = calculateElectromagneticMoment(\n",
    "        constantOfElectromagneticMoment, voltagesList[-1])\n",
    "    electromagneticMomentList.append(electromagneticMoment)\n",
    "\n",
    "    # Calculate revolutions and update revolutions list\n",
    "    revolutions = calculateRevoltions(\n",
    "        revolutionsList, electromagneticMomentList)\n",
    "    revolutionsList.append(revolutions)\n",
    "    #print(f\"Step {i}: Referenced RPM = {referencedRevolutionsPerMinute}, Current RPM = {revolutionsList[-1]}, Current Moment = {electromagneticMomentList[-1]}\")\n",
    "    "
   ]
  },
  {
   "cell_type": "code",
   "execution_count": 317,
   "metadata": {},
   "outputs": [
    {
     "data": {
      "text/plain": [
       "[<matplotlib.lines.Line2D at 0x11ce20ad0>]"
      ]
     },
     "execution_count": 317,
     "metadata": {},
     "output_type": "execute_result"
    },
    {
     "data": {
      "image/png": "[encoded data removed]",
      "text/plain": [
       "<Figure size 1200x600 with 1 Axes>"
      ]
     },
     "metadata": {},
     "output_type": "display_data"
    }
   ],
   "source": [
    "import matplotlib.pyplot as plt\n",
    "\n",
    "plt.figure(figsize=(12,6))\n",
    "plt.plot(timeOfSimulationList, revolutionsList)"
   ]
  }
 ],
 "metadata": {
  "kernelspec": {
   "display_name": "Python 3",
   "language": "python",
   "name": "python3"
  },
  "language_info": {
   "codemirror_mode": {
    "name": "ipython",
    "version": 3
   },
   "file_extension": ".py",
   "mimetype": "text/x-python",
   "name": "python",
   "nbconvert_exporter": "python",
   "pygments_lexer": "ipython3",
   "version": "3.12.2"
  }
 },
 "nbformat": 4,
 "nbformat_minor": 2
}
