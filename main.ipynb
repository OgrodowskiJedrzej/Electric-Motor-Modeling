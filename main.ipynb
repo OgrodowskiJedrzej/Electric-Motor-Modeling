{
 "cells": [
  {
   "cell_type": "code",
   "execution_count": 1,
   "metadata": {},
   "outputs": [],
   "source": [
    "import numpy as np"
   ]
  },
  {
   "cell_type": "markdown",
   "metadata": {},
   "source": [
    "### Introduction\n",
    "Model of electric engine. \n",
    "1000 - 10000 RPMs.\n",
    "\n",
    "Differential equation describing the system.\n",
    "\n",
    "$$J\\frac{d\\omega}{dt} = M_e - M_0 - M_{LOAD}$$\n",
    "where:\n",
    "- $M_e$: electromagnetic moment\n",
    "- $M_0$: braking moment\n",
    "- $M_{LOAD}$: load moment\n",
    "- $I$: moment of inertia\n",
    "\n",
    "Transformation to differential form using the Eulerian method.\n",
    "$$I\\frac{d\\omega(t+\\Delta t) - \\omega (t)}{\\Delta t} = M_e(t)-M_0-M_{LOAD}(t)$$\n",
    "$$\\omega (t+\\Delta t) = \\omega(t) + \\frac{\\Delta t}{I}(M_e(t)- M_0-M_{LOAD}(t))$$\n",
    "\n",
    "What about $M_e(t)$?\n",
    "$$U_{PI}(t) = Kp \\cdot e(t) + Ki \\sum^t_{k=0}e(k)\\Delta t$$\n",
    "$$M_e(t) = U_{PI} * const$$\n",
    "$$e(t) = \\omega_{ref} - \\omega(t)$$"
   ]
  },
  {
   "cell_type": "markdown",
   "metadata": {},
   "source": [
    "### Defined Parameters"
   ]
  },
  {
   "cell_type": "code",
   "execution_count": null,
   "metadata": {},
   "outputs": [],
   "source": [
    "# Parameters of simulation\n",
    "referencedRevolutionsPerMinute = 2000\n",
    "\n",
    "# Simulation time parameters\n",
    "timeOfSimulation = 30\n",
    "timeOfSample = 0.1\n",
    "\n",
    "# Parameters of crankshaft\n",
    "brakingMoment = 0.5\n",
    "loadMoment = 0.5\n",
    "momentOfInertia = 1.2\n",
    "constantOfElectromagneticMoment = 0.1 #! dostosowac\n",
    "\n",
    "# Parameters of PI regulator\n",
    "Kp = 0.1\n",
    "Ki = 0.1\n",
    "\n",
    "# Constraints\n",
    "Umax = 24\n",
    "Umin = 0\n",
    "maximumRevolutionsPerMinute = referencedRevolutionsPerMinute * 1.5 #! Check\n",
    "maximumElectromagneticMoment = maximumRevolutionsPerMinute / 1500 #! Check\n",
    "\n",
    "# Lists of measured values\n",
    "# TODO: Think about initalizing first elements here in list\n",
    "timeOfSimulationList = [0.0]\n",
    "loadMomentList = [] \n",
    "electromagneticMoment = []\n",
    "adjustmentErrors = [referencedRevolutionsPerMinute]"
   ]
  },
  {
   "cell_type": "markdown",
   "metadata": {},
   "source": [
    "### Calculations"
   ]
  },
  {
   "cell_type": "code",
   "execution_count": null,
   "metadata": {},
   "outputs": [],
   "source": [
    "def calculateNumberOfSteps(timeOfSimulation: int, timeOfSample: float) -> int:\n",
    "    \"\"\" This function calculates number of iterations for simulation of process\n",
    "\n",
    "        @Parameters:\n",
    "        - timeOfSimulation (int): total time of simulation in seconds\n",
    "        - timeOfSample (float): time at which we repeat the measurement in seconds\n",
    "\n",
    "        @Return:\n",
    "        - int: number of iterations\n",
    "    \"\"\"\n",
    "    return int(timeOfSimulation / timeOfSample) + 1"
   ]
  },
  {
   "cell_type": "code",
   "execution_count": null,
   "metadata": {},
   "outputs": [],
   "source": [
    "def calculateAdjustmentError(referencedRevolutionsPerMinute: float, currentRevolutionsPerMinute: float) -> float:\n",
    "    # TODO Floats or Integers???\n",
    "    \"\"\" This function calculates adjustment error which is difference between referenced value and current one\n",
    "\n",
    "        @Parameters:\n",
    "        - referencedRevolutionsPerMinute (float): set value to be obtained by regulator\n",
    "        - currentRevolutionsPerMinute (float): current value\n",
    "\n",
    "        @Return:\n",
    "        - float: error\n",
    "    \"\"\"\n",
    "    return referencedRevolutionsPerMinute - currentRevolutionsPerMinute"
   ]
  },
  {
   "cell_type": "code",
   "execution_count": null,
   "metadata": {},
   "outputs": [],
   "source": [
    "def calculateVoltageOfRegulator(errorList : list[float], iteration: int) -> float:\n",
    "    \"\"\" This funtion calculates current voltage of regulator\n",
    "\n",
    "        @Parameters:\n",
    "        - errorList (list[float]): list of errors at the moment and before\n",
    "        - iteration (int): information about current simulation iteration\n",
    "\n",
    "        @Return\n",
    "        - float: current voltage of regulator\n",
    "    \"\"\"\n",
    "    return Kp * errorList[iteration] + Ki * sum(errorList) * timeOfSample"
   ]
  },
  {
   "cell_type": "code",
   "execution_count": null,
   "metadata": {},
   "outputs": [],
   "source": [
    "def calculateElectromagneticMoment(constant : float, currentVoltage : float) -> float:\n",
    "    \"\"\" This function calculates current electromagnetic moment based on voltage of regulator\n",
    "\n",
    "        @Parameters:\n",
    "        - constant (float): used to scale moment \n",
    "        - currentVoltageOfRegulator (float): voltage of regulator at the moment\n",
    "\n",
    "        @Return\n",
    "        - float: current electromagnetic moment\n",
    "    \"\"\"\n",
    "    return constant * currentVoltage"
   ]
  },
  {
   "cell_type": "code",
   "execution_count": null,
   "metadata": {},
   "outputs": [],
   "source": [
    "def calculateNormalizedVoltage(voltgeOfRegulator : float) -> float:\n",
    "    \"\"\" This function calculates normalized voltage based on predefined constraints <0;24> [V]\n",
    "\n",
    "    @Parameters:\n",
    "    - voltageOfRegulator (float): current voltage of regulator\n",
    "\n",
    "    @Returns:\n",
    "    - float: normalized voltage used to create electromagnetic moment\n",
    "    \"\"\"\n",
    "    return max(Umin, min(Umax, voltgeOfRegulator))"
   ]
  },
  {
   "cell_type": "markdown",
   "metadata": {},
   "source": [
    "### Simulation"
   ]
  },
  {
   "cell_type": "code",
   "execution_count": 2,
   "metadata": {},
   "outputs": [],
   "source": [
    "# TODO Perform simulation here"
   ]
  }
 ],
 "metadata": {
  "kernelspec": {
   "display_name": "Python 3",
   "language": "python",
   "name": "python3"
  },
  "language_info": {
   "codemirror_mode": {
    "name": "ipython",
    "version": 3
   },
   "file_extension": ".py",
   "mimetype": "text/x-python",
   "name": "python",
   "nbconvert_exporter": "python",
   "pygments_lexer": "ipython3",
   "version": "3.12.2"
  }
 },
 "nbformat": 4,
 "nbformat_minor": 2
}
