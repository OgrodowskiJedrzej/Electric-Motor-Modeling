{
 "cells": [
  {
   "cell_type": "markdown",
   "metadata": {},
   "source": [
    "### Introduction\n",
    "Model of electric engine. \n",
    "1000 - 10000 RPMs.\n",
    "\n",
    "Differential equation describing the system.\n",
    "\n",
    "$$J\\frac{d\\omega}{dt} = M_e - M_0 - M_{LOAD}$$\n",
    "where:\n",
    "- $M_e$: electromagnetic moment\n",
    "- $M_0$: braking moment\n",
    "- $M_{LOAD}$: load moment\n",
    "- $I$: moment of inertia\n",
    "\n",
    "Transformation to differential form using the Eulerian method.\n",
    "$$I\\frac{d\\omega(t+\\Delta t) - \\omega (t)}{\\Delta t} = M_e(t)-M_0-M_{LOAD}(t)$$\n",
    "$$\\omega (t+\\Delta t) = \\omega(t) + \\frac{\\Delta t}{I}(M_e(t)- M_0-M_{LOAD}(t))$$\n",
    "\n",
    "What about $M_e(t)$?\n",
    "$$U_{PI}(t) = Kp \\cdot e(t) + Ki \\sum^t_{k=0}e(k)\\Delta t$$\n",
    "$$M_e(t) = U_{PI} * const$$\n",
    "$$e(t) = \\omega_{ref} - \\omega(t)$$"
   ]
  },
  {
   "cell_type": "markdown",
   "metadata": {},
   "source": [
    "### Defined Parameters"
   ]
  },
  {
   "cell_type": "code",
   "execution_count": 962,
   "metadata": {},
   "outputs": [],
   "source": [
    "# Parameters of simulation\n",
    "referencedRevolutionsPerMinute = 3000\n",
    "\n",
    "# Simulation time parameters\n",
    "timeOfSimulation = 1000\n",
    "timeOfSample = 0.1\n",
    "\n",
    "# Parameters of crankshaft\n",
    "brakingMoment = 0.2\n",
    "loadMoment = 5\n",
    "momentOfInertia = 1.2\n",
    "constantOfElectromagneticMoment = 0.4 #! dostosowac\n",
    "\n",
    "# Parameters of PI regulator\n",
    "Kp = 0.007\n",
    "Ki = 0.00015\n",
    "Kd = 0.0015\n",
    "\n",
    "# Constraints\n",
    "Umax = 24\n",
    "Umin = 0\n",
    "\n",
    "\n",
    "# Lists of measured values\n",
    "# TODO: Think about initalizing first elements here in list\n",
    "timeOfSimulationList = [0.0]\n",
    "loadMomentList = [0.0] \n",
    "electromagneticMomentList = [0.0]\n",
    "adjustmentErrors = [referencedRevolutionsPerMinute]\n",
    "voltagesList = [0.0]\n",
    "revolutionsList = [0]"
   ]
  },
  {
   "cell_type": "markdown",
   "metadata": {},
   "source": [
    "### Calculations"
   ]
  },
  {
   "cell_type": "code",
   "execution_count": 963,
   "metadata": {},
   "outputs": [],
   "source": [
    "def calculateNumberOfIterations(timeOfSimulation: int, timeOfSample: float) -> int:\n",
    "    \"\"\" This function calculates number of iterations for simulation of process\n",
    "\n",
    "        @Parameters:\n",
    "        - timeOfSimulation (int): total time of simulation in seconds\n",
    "        - timeOfSample (float): time at which we repeat the measurement in seconds\n",
    "\n",
    "        @Return:\n",
    "        - int: number of iterations\n",
    "    \"\"\"\n",
    "    return int(timeOfSimulation / timeOfSample) + 1"
   ]
  },
  {
   "cell_type": "code",
   "execution_count": 964,
   "metadata": {},
   "outputs": [],
   "source": [
    "def calculateAdjustmentError(referencedRevolutionsPerMinute: float, currentRevolutionsPerMinute: float) -> float:\n",
    "    # TODO Floats or Integers???\n",
    "    \"\"\" This function calculates adjustment error which is difference between referenced value and current one\n",
    "\n",
    "        @Parameters:\n",
    "        - referencedRevolutionsPerMinute (float): set value to be obtained by regulator\n",
    "        - currentRevolutionsPerMinute (float): current value\n",
    "\n",
    "        @Return:\n",
    "        - float: error\n",
    "    \"\"\"\n",
    "    return referencedRevolutionsPerMinute - currentRevolutionsPerMinute"
   ]
  },
  {
   "cell_type": "code",
   "execution_count": 965,
   "metadata": {},
   "outputs": [],
   "source": [
    "def calculateVoltageOfRegulator(errorList: list[float], iteration: int) -> float:\n",
    "    \"\"\"\n",
    "    This function calculates current voltage of regulator using PID control.\n",
    "\n",
    "    @Parameters:\n",
    "    - errorList (list[float]): list of errors at the moment and before\n",
    "    - iteration (int): information about current simulation iteration\n",
    "\n",
    "    @Return:\n",
    "    - float: current voltage of regulator\n",
    "    \"\"\"\n",
    "    # Składnik proporcjonalny\n",
    "    proportional = Kp * errorList[iteration]\n",
    "\n",
    "    # Składnik całkowy\n",
    "    integral = Ki * sum(errorList) * timeOfSample\n",
    "\n",
    "    # Składnik różniczkowy\n",
    "    if iteration > 0:  # Różniczkowanie możliwe od drugiej iteracji\n",
    "        derivative = (errorList[iteration] - errorList[iteration - 1]) / timeOfSample\n",
    "    else:\n",
    "        derivative = 0.0  # Na pierwszej iteracji brak różniczkowego wkładu\n",
    "\n",
    "    derivative_term = Kd * derivative\n",
    "\n",
    "    # Suma wkładów regulatora\n",
    "    voltage = proportional + integral + derivative_term\n",
    "\n",
    "\n",
    "    return voltage\n"
   ]
  },
  {
   "cell_type": "code",
   "execution_count": 966,
   "metadata": {},
   "outputs": [],
   "source": [
    "def calculateElectromagneticMoment(constant : float, currentVoltage : float) -> float:\n",
    "    \"\"\" This function calculates current electromagnetic moment based on voltage of regulator\n",
    "\n",
    "        @Parameters:\n",
    "        - constant (float): used to scale moment \n",
    "        - currentVoltageOfRegulator (float): voltage of regulator at the moment\n",
    "\n",
    "        @Return\n",
    "        - float: current electromagnetic moment\n",
    "    \"\"\"\n",
    "    return constant * currentVoltage"
   ]
  },
  {
   "cell_type": "code",
   "execution_count": 967,
   "metadata": {},
   "outputs": [],
   "source": [
    "def calculateNormalizedVoltage(voltgeOfRegulator : float) -> float:\n",
    "    \"\"\" This function calculates normalized voltage based on predefined constraints <0;24> [V]\n",
    "\n",
    "    @Parameters:\n",
    "    - voltageOfRegulator (float): current voltage of regulator\n",
    "\n",
    "    @Returns:\n",
    "    - float: normalized voltage used to create electromagnetic moment\n",
    "    \"\"\"\n",
    "    return max(Umin, min(Umax, voltgeOfRegulator))"
   ]
  },
  {
   "cell_type": "code",
   "execution_count": 968,
   "metadata": {},
   "outputs": [],
   "source": [
    "def calculateRevoltions(revolutionsList, electromagneticMomentList):\n",
    "    omega = revolutionsList[-1] *(2*3.14/60)\n",
    "    acceleration = (\n",
    "        electromagneticMomentList[-1] - loadMoment - brakingMoment) / momentOfInertia\n",
    "    new_omega=omega+timeOfSample*acceleration\n",
    "\n",
    "    return new_omega * (60 / (2 * 3.14))"
   ]
  },
  {
   "cell_type": "markdown",
   "metadata": {},
   "source": [
    "### Simulation"
   ]
  },
  {
   "cell_type": "code",
   "execution_count": 969,
   "metadata": {},
   "outputs": [],
   "source": [
    "for i in range(calculateNumberOfIterations(timeOfSimulation, timeOfSample)):\n",
    "    # Update simulation time\n",
    "    timeOfSimulationList.append(timeOfSimulationList[-1] + timeOfSample)\n",
    "\n",
    "\n",
    "    # Calculate normalized voltage\n",
    "    voltage = calculateNormalizedVoltage(\n",
    "        calculateVoltageOfRegulator(adjustmentErrors, -1))\n",
    "    voltagesList.append(voltage)\n",
    "\n",
    "    # Calculate electromagnetic moment\n",
    "    electromagneticMoment = calculateElectromagneticMoment(\n",
    "        constantOfElectromagneticMoment, voltagesList[-1])\n",
    "    electromagneticMomentList.append(electromagneticMoment)\n",
    "\n",
    "    # Calculate revolutions and update revolutions list\n",
    "    revolutions = calculateRevoltions(\n",
    "        revolutionsList, electromagneticMomentList)\n",
    "    revolutionsList.append(revolutions)\n",
    "    #print(f\"Step {i}: Referenced RPM = {referencedRevolutionsPerMinute}, Current RPM = {revolutionsList[-1]}, Current Moment = {electromagneticMomentList[-1]}\")\n",
    "\n",
    "        # Calculate adjustment error\n",
    "    adjustmentError = calculateAdjustmentError(\n",
    "        referencedRevolutionsPerMinute, revolutionsList[-1])\n",
    "    adjustmentErrors.append(adjustmentError)\n",
    "    "
   ]
  },
  {
   "cell_type": "code",
   "execution_count": 970,
   "metadata": {},
   "outputs": [
    {
     "data": {
      "text/plain": [
       "[<matplotlib.lines.Line2D at 0x18a38673290>]"
      ]
     },
     "execution_count": 970,
     "metadata": {},
     "output_type": "execute_result"
    },
    {
     "data": {
      "image/png": "[encoded data removed]",
      "text/plain": [
       "<Figure size 1200x600 with 1 Axes>"
      ]
     },
     "metadata": {},
     "output_type": "display_data"
    }
   ],
   "source": [
    "import matplotlib.pyplot as plt\n",
    "\n",
    "plt.figure(figsize=(12,6))\n",
    "plt.plot(timeOfSimulationList, revolutionsList)"
   ]
  },
  {
   "cell_type": "code",
   "execution_count": 971,
   "metadata": {},
   "outputs": [
    {
     "name": "stdout",
     "output_type": "stream",
     "text": [
      "[0.0, 21.045, 21.072026855095544, 21.09895489860239, 21.125784222164008, 21.152514917691146, 21.179147077360813, 21.205680793615244, 21.232116159160856, 21.25845326696723, 21.284692210266076, 21.31083308255019, 21.336875977572454, 21.36282098934477, 21.388668212137073, 21.414417740476274, 21.440069669145267, 21.46562409318186, 21.491081107877797, 21.51644080877772]\n",
      "[0.0, 8.418000000000001, 8.428810742038218, 8.439581959440956, 8.450313688865604, 8.461005967076458, 8.471658830944326, 8.482272317446098, 8.492846463664343, 8.503381306786892, 8.51387688410643, 8.524333233020077, 8.534750391028982, 8.545128395737908, 8.55546728485483, 8.56576709619051, 8.576027867658107, 8.586249637272743, 8.59643244315112, 8.606576323511089]\n",
      "[0.0, 0.1, 0.2, 0.30000000000000004, 0.4, 0.5, 0.6, 0.7, 0.7999999999999999, 0.8999999999999999, 0.9999999999999999, 1.0999999999999999, 1.2, 1.3, 1.4000000000000001, 1.5000000000000002, 1.6000000000000003, 1.7000000000000004, 1.8000000000000005, 1.9000000000000006]\n",
      "[0, 2.562101910828026, 5.132811100348899, 7.7120960999038, 10.299925470019724, 12.89626780049461, 15.501091710482129, 18.114365848576156, 20.736058892894896, 23.36613955116471, 26.004576560803585, 28.65133868900428, 31.30639473281716, 33.96971351923269, 36.6412639052636, 39.32101477802674, 42.00893505482459, 44.70499368322645, 47.4091596411493, 50.121401936938376]\n"
     ]
    }
   ],
   "source": [
    "print(voltagesList[:20])\n",
    "print(electromagneticMomentList[:20])\n",
    "print(timeOfSimulationList[:20])\n",
    "print(revolutionsList[:20])"
   ]
  }
 ],
 "metadata": {
  "kernelspec": {
   "display_name": "Python 3",
   "language": "python",
   "name": "python3"
  },
  "language_info": {
   "codemirror_mode": {
    "name": "ipython",
    "version": 3
   },
   "file_extension": ".py",
   "mimetype": "text/x-python",
   "name": "python",
   "nbconvert_exporter": "python",
   "pygments_lexer": "ipython3",
   "version": "3.12.7"
  }
 },
 "nbformat": 4,
 "nbformat_minor": 2
}
