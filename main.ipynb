{
 "cells": [
  {
   "cell_type": "code",
   "execution_count": 1,
   "metadata": {},
   "outputs": [],
   "source": [
    "import numpy as np"
   ]
  },
  {
   "cell_type": "markdown",
   "metadata": {},
   "source": [
    "### Introduction\n",
    "Differential equation describing the system.\n",
    "\n",
    "$$J\\frac{d\\omega}{dt} = M_e - M_0 - M_{LOAD}$$\n",
    "where:\n",
    "- $M_e$: electromagnetic moment\n",
    "- $M_0$: braking moment\n",
    "- $M_{LOAD}$: load moment\n",
    "- $J$: moment of inertia\n",
    "\n",
    "Transformation to differential form using the Eulerian method.\n",
    "$$J\\frac{d\\omega(t+\\Delta t) - \\omega (t)}{\\Delta t} = M_e(t)-M_0-M_{LOAD}(t)$$\n",
    "$$\\omega (t+\\Delta t) = \\omega(t) + \\frac{\\Delta t}{J}(M_e(t)- M_0-M_{LOAD}(t))$$"
   ]
  },
  {
   "cell_type": "markdown",
   "metadata": {},
   "source": [
    "### Defined Parameters"
   ]
  },
  {
   "cell_type": "code",
   "execution_count": null,
   "metadata": {},
   "outputs": [],
   "source": [
    "timeOfSimulation = 30\n",
    "timeOfSample = 0.1"
   ]
  },
  {
   "cell_type": "code",
   "execution_count": null,
   "metadata": {},
   "outputs": [],
   "source": [
    "def calculateNumberOfSteps(timeOfSimulation: int, timeOfSample: float) -> int:\n",
    "    \"\"\" This function calculates number of iterations for simulation of process\n",
    "\n",
    "        Parameters:\n",
    "        - total_time (int): total time of simulation in seconds\n",
    "        - sammpling_time (float): time at which we repeat the measurement in seconds\n",
    "\n",
    "        Returns:\n",
    "        - int: number of iterations\n",
    "    \"\"\"\n",
    "    return int(timeOfSimulation / timeOfSample) + 1"
   ]
  }
 ],
 "metadata": {
  "kernelspec": {
   "display_name": "Python 3",
   "language": "python",
   "name": "python3"
  },
  "language_info": {
   "codemirror_mode": {
    "name": "ipython",
    "version": 3
   },
   "file_extension": ".py",
   "mimetype": "text/x-python",
   "name": "python",
   "nbconvert_exporter": "python",
   "pygments_lexer": "ipython3",
   "version": "3.12.2"
  }
 },
 "nbformat": 4,
 "nbformat_minor": 2
}
